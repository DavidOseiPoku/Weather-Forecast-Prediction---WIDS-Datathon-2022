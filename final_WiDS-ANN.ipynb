{
 "cells": [
  {
   "cell_type": "code",
   "execution_count": 1,
   "metadata": {
    "id": "a6WB77uKfGTH"
   },
   "outputs": [],
   "source": [
    "import pandas as pd\n",
    "import numpy as np\n",
    "from matplotlib import pyplot as plt\n",
    "import tensorflow as tf\n",
    "from tensorflow import keras\n",
    "from keras.layers import LSTM, Dense, Dropout\n",
    "from sklearn.preprocessing import MinMaxScaler\n",
    "from sklearn.model_selection import train_test_split\n",
    "%matplotlib inline"
   ]
  },
  {
   "cell_type": "markdown",
   "metadata": {},
   "source": [
    "### Loading the Data"
   ]
  },
  {
   "cell_type": "markdown",
   "metadata": {},
   "source": [
    "Convert coordinates into location groups (Ref: https://www.kaggle.com/code/flaviafelicioni/wids-2023-different-locations-train-test-solved)"
   ]
  },
  {
   "cell_type": "code",
   "execution_count": 2,
   "metadata": {
    "colab": {
     "base_uri": "https://localhost:8080/",
     "height": 365
    },
    "id": "v-zu4HUOfPnw",
    "outputId": "bb46899b-0558-4b79-844f-5044a580c33b"
   },
   "outputs": [
    {
     "data": {
      "text/html": [
       "<div>\n",
       "<style scoped>\n",
       "    .dataframe tbody tr th:only-of-type {\n",
       "        vertical-align: middle;\n",
       "    }\n",
       "\n",
       "    .dataframe tbody tr th {\n",
       "        vertical-align: top;\n",
       "    }\n",
       "\n",
       "    .dataframe thead th {\n",
       "        text-align: right;\n",
       "    }\n",
       "</style>\n",
       "<table border=\"1\" class=\"dataframe\">\n",
       "  <thead>\n",
       "    <tr style=\"text-align: right;\">\n",
       "      <th></th>\n",
       "      <th>index</th>\n",
       "      <th>lat</th>\n",
       "      <th>lon</th>\n",
       "      <th>startdate</th>\n",
       "      <th>contest-pevpr-sfc-gauss-14d__pevpr</th>\n",
       "      <th>nmme0-tmp2m-34w__cancm30</th>\n",
       "      <th>nmme0-tmp2m-34w__cancm40</th>\n",
       "      <th>nmme0-tmp2m-34w__ccsm30</th>\n",
       "      <th>nmme0-tmp2m-34w__ccsm40</th>\n",
       "      <th>nmme0-tmp2m-34w__cfsv20</th>\n",
       "      <th>...</th>\n",
       "      <th>wind-vwnd-925-2010-11</th>\n",
       "      <th>wind-vwnd-925-2010-12</th>\n",
       "      <th>wind-vwnd-925-2010-13</th>\n",
       "      <th>wind-vwnd-925-2010-14</th>\n",
       "      <th>wind-vwnd-925-2010-15</th>\n",
       "      <th>wind-vwnd-925-2010-16</th>\n",
       "      <th>wind-vwnd-925-2010-17</th>\n",
       "      <th>wind-vwnd-925-2010-18</th>\n",
       "      <th>wind-vwnd-925-2010-19</th>\n",
       "      <th>wind-vwnd-925-2010-20</th>\n",
       "    </tr>\n",
       "  </thead>\n",
       "  <tbody>\n",
       "    <tr>\n",
       "      <th>0</th>\n",
       "      <td>0</td>\n",
       "      <td>0.0</td>\n",
       "      <td>0.833333</td>\n",
       "      <td>2014-09-01</td>\n",
       "      <td>237.00</td>\n",
       "      <td>29.02</td>\n",
       "      <td>31.64</td>\n",
       "      <td>29.57</td>\n",
       "      <td>30.73</td>\n",
       "      <td>29.71</td>\n",
       "      <td>...</td>\n",
       "      <td>-27.68</td>\n",
       "      <td>-37.21</td>\n",
       "      <td>8.32</td>\n",
       "      <td>9.56</td>\n",
       "      <td>-2.03</td>\n",
       "      <td>48.13</td>\n",
       "      <td>28.09</td>\n",
       "      <td>-13.50</td>\n",
       "      <td>11.90</td>\n",
       "      <td>4.58</td>\n",
       "    </tr>\n",
       "    <tr>\n",
       "      <th>1</th>\n",
       "      <td>1</td>\n",
       "      <td>0.0</td>\n",
       "      <td>0.833333</td>\n",
       "      <td>2014-09-02</td>\n",
       "      <td>228.90</td>\n",
       "      <td>29.02</td>\n",
       "      <td>31.64</td>\n",
       "      <td>29.57</td>\n",
       "      <td>30.73</td>\n",
       "      <td>29.71</td>\n",
       "      <td>...</td>\n",
       "      <td>-21.13</td>\n",
       "      <td>-36.57</td>\n",
       "      <td>8.77</td>\n",
       "      <td>21.17</td>\n",
       "      <td>4.44</td>\n",
       "      <td>48.60</td>\n",
       "      <td>27.41</td>\n",
       "      <td>-23.77</td>\n",
       "      <td>15.44</td>\n",
       "      <td>3.42</td>\n",
       "    </tr>\n",
       "    <tr>\n",
       "      <th>2</th>\n",
       "      <td>2</td>\n",
       "      <td>0.0</td>\n",
       "      <td>0.833333</td>\n",
       "      <td>2014-09-03</td>\n",
       "      <td>220.69</td>\n",
       "      <td>29.02</td>\n",
       "      <td>31.64</td>\n",
       "      <td>29.57</td>\n",
       "      <td>30.73</td>\n",
       "      <td>29.71</td>\n",
       "      <td>...</td>\n",
       "      <td>-10.72</td>\n",
       "      <td>-34.16</td>\n",
       "      <td>6.99</td>\n",
       "      <td>32.16</td>\n",
       "      <td>5.01</td>\n",
       "      <td>48.53</td>\n",
       "      <td>19.21</td>\n",
       "      <td>-33.16</td>\n",
       "      <td>15.11</td>\n",
       "      <td>4.82</td>\n",
       "    </tr>\n",
       "    <tr>\n",
       "      <th>3</th>\n",
       "      <td>3</td>\n",
       "      <td>0.0</td>\n",
       "      <td>0.833333</td>\n",
       "      <td>2014-09-04</td>\n",
       "      <td>225.28</td>\n",
       "      <td>29.02</td>\n",
       "      <td>31.64</td>\n",
       "      <td>29.57</td>\n",
       "      <td>30.73</td>\n",
       "      <td>29.71</td>\n",
       "      <td>...</td>\n",
       "      <td>0.33</td>\n",
       "      <td>-31.04</td>\n",
       "      <td>6.17</td>\n",
       "      <td>39.66</td>\n",
       "      <td>-1.41</td>\n",
       "      <td>50.59</td>\n",
       "      <td>8.29</td>\n",
       "      <td>-37.22</td>\n",
       "      <td>18.24</td>\n",
       "      <td>9.74</td>\n",
       "    </tr>\n",
       "    <tr>\n",
       "      <th>4</th>\n",
       "      <td>4</td>\n",
       "      <td>0.0</td>\n",
       "      <td>0.833333</td>\n",
       "      <td>2014-09-05</td>\n",
       "      <td>237.24</td>\n",
       "      <td>29.02</td>\n",
       "      <td>31.64</td>\n",
       "      <td>29.57</td>\n",
       "      <td>30.73</td>\n",
       "      <td>29.71</td>\n",
       "      <td>...</td>\n",
       "      <td>9.83</td>\n",
       "      <td>-31.80</td>\n",
       "      <td>7.47</td>\n",
       "      <td>38.62</td>\n",
       "      <td>-5.21</td>\n",
       "      <td>54.73</td>\n",
       "      <td>-2.58</td>\n",
       "      <td>-42.30</td>\n",
       "      <td>21.91</td>\n",
       "      <td>10.95</td>\n",
       "    </tr>\n",
       "  </tbody>\n",
       "</table>\n",
       "<p>5 rows × 246 columns</p>\n",
       "</div>"
      ],
      "text/plain": [
       "   index  lat       lon  startdate  contest-pevpr-sfc-gauss-14d__pevpr  \\\n",
       "0      0  0.0  0.833333 2014-09-01                              237.00   \n",
       "1      1  0.0  0.833333 2014-09-02                              228.90   \n",
       "2      2  0.0  0.833333 2014-09-03                              220.69   \n",
       "3      3  0.0  0.833333 2014-09-04                              225.28   \n",
       "4      4  0.0  0.833333 2014-09-05                              237.24   \n",
       "\n",
       "   nmme0-tmp2m-34w__cancm30  nmme0-tmp2m-34w__cancm40  \\\n",
       "0                     29.02                     31.64   \n",
       "1                     29.02                     31.64   \n",
       "2                     29.02                     31.64   \n",
       "3                     29.02                     31.64   \n",
       "4                     29.02                     31.64   \n",
       "\n",
       "   nmme0-tmp2m-34w__ccsm30  nmme0-tmp2m-34w__ccsm40  nmme0-tmp2m-34w__cfsv20  \\\n",
       "0                    29.57                    30.73                    29.71   \n",
       "1                    29.57                    30.73                    29.71   \n",
       "2                    29.57                    30.73                    29.71   \n",
       "3                    29.57                    30.73                    29.71   \n",
       "4                    29.57                    30.73                    29.71   \n",
       "\n",
       "   ...  wind-vwnd-925-2010-11  wind-vwnd-925-2010-12  wind-vwnd-925-2010-13  \\\n",
       "0  ...                 -27.68                 -37.21                   8.32   \n",
       "1  ...                 -21.13                 -36.57                   8.77   \n",
       "2  ...                 -10.72                 -34.16                   6.99   \n",
       "3  ...                   0.33                 -31.04                   6.17   \n",
       "4  ...                   9.83                 -31.80                   7.47   \n",
       "\n",
       "   wind-vwnd-925-2010-14  wind-vwnd-925-2010-15  wind-vwnd-925-2010-16  \\\n",
       "0                   9.56                  -2.03                  48.13   \n",
       "1                  21.17                   4.44                  48.60   \n",
       "2                  32.16                   5.01                  48.53   \n",
       "3                  39.66                  -1.41                  50.59   \n",
       "4                  38.62                  -5.21                  54.73   \n",
       "\n",
       "   wind-vwnd-925-2010-17  wind-vwnd-925-2010-18  wind-vwnd-925-2010-19  \\\n",
       "0                  28.09                 -13.50                  11.90   \n",
       "1                  27.41                 -23.77                  15.44   \n",
       "2                  19.21                 -33.16                  15.11   \n",
       "3                   8.29                 -37.22                  18.24   \n",
       "4                  -2.58                 -42.30                  21.91   \n",
       "\n",
       "   wind-vwnd-925-2010-20  \n",
       "0                   4.58  \n",
       "1                   3.42  \n",
       "2                   4.82  \n",
       "3                   9.74  \n",
       "4                  10.95  \n",
       "\n",
       "[5 rows x 246 columns]"
      ]
     },
     "execution_count": 2,
     "metadata": {},
     "output_type": "execute_result"
    }
   ],
   "source": [
    "df = pd.read_csv('widsdatathon2023/train_data.csv', parse_dates=['startdate'])\n",
    "\n",
    "target = 'contest-tmp2m-14d__tmp2m'\n",
    "\n",
    "df.head()"
   ]
  },
  {
   "cell_type": "markdown",
   "metadata": {},
   "source": [
    "### Visualization"
   ]
  },
  {
   "cell_type": "code",
   "execution_count": 3,
   "metadata": {},
   "outputs": [],
   "source": [
    "def plot_timeseries_by_region(df, regions, target, x_label, y_label):\n",
    "    plt.figure(figsize = (10, 6))\n",
    "    \n",
    "    for region in regions:\n",
    "        region_df = df[df['climateregions__climateregion'] == region]\n",
    "        region_y = region_df[target]\n",
    "        region_x = region_df['startdate']\n",
    "        \n",
    "        plt.plot(region_x, region_y, alpha=0.5, label=region)\n",
    "        plt.grid()\n",
    "        plt.legend()\n",
    "    \n",
    "    plt.xlabel(x_label, {'fontsize': 12}) \n",
    "    plt.ylabel(y_label, {'fontsize': 12})"
   ]
  },
  {
   "cell_type": "code",
   "execution_count": 4,
   "metadata": {},
   "outputs": [
    {
     "data": {
      "image/png": "[encoded data removed]",
      "text/plain": [
       "<Figure size 1000x600 with 1 Axes>"
      ]
     },
     "metadata": {},
     "output_type": "display_data"
    }
   ],
   "source": [
    "regions = df['climateregions__climateregion'].unique()\n",
    "df = df.sort_values(by=['startdate'], axis=0)\n",
    "plot_timeseries_by_region(df, regions,'contest-tmp2m-14d__tmp2m', 'date', 'temperature')"
   ]
  },
  {
   "cell_type": "markdown",
   "metadata": {},
   "source": [
    "### Preprocessing"
   ]
  },
  {
   "cell_type": "code",
   "execution_count": 5,
   "metadata": {},
   "outputs": [
    {
     "name": "stdout",
     "output_type": "stream",
     "text": [
      "514 unique locations\n"
     ]
    }
   ],
   "source": [
    "scale = 14\n",
    "\n",
    "df.loc[:, 'lat'] = round(df.lat, scale)\n",
    "df.loc[:, 'lon'] = round(df.lon, scale)\n",
    "\n",
    "# Create new feature\n",
    "df['loc_group'] = df.groupby(['lat','lon']).ngroup().astype('string')\n",
    "\n",
    "print(f'{df.loc_group.nunique()} unique locations')\n",
    "\n",
    "# remove lat and lon\n",
    "df.drop(['lat', 'lon'], axis=1, inplace=True)"
   ]
  },
  {
   "cell_type": "code",
   "execution_count": 6,
   "metadata": {},
   "outputs": [
    {
     "data": {
      "text/html": [
       "<div>\n",
       "<style scoped>\n",
       "    .dataframe tbody tr th:only-of-type {\n",
       "        vertical-align: middle;\n",
       "    }\n",
       "\n",
       "    .dataframe tbody tr th {\n",
       "        vertical-align: top;\n",
       "    }\n",
       "\n",
       "    .dataframe thead th {\n",
       "        text-align: right;\n",
       "    }\n",
       "</style>\n",
       "<table border=\"1\" class=\"dataframe\">\n",
       "  <thead>\n",
       "    <tr style=\"text-align: right;\">\n",
       "      <th></th>\n",
       "      <th>index</th>\n",
       "      <th>startdate</th>\n",
       "      <th>contest-pevpr-sfc-gauss-14d__pevpr</th>\n",
       "      <th>nmme0-tmp2m-34w__cancm30</th>\n",
       "      <th>nmme0-tmp2m-34w__cancm40</th>\n",
       "      <th>nmme0-tmp2m-34w__ccsm30</th>\n",
       "      <th>nmme0-tmp2m-34w__ccsm40</th>\n",
       "      <th>nmme0-tmp2m-34w__cfsv20</th>\n",
       "      <th>nmme0-tmp2m-34w__gfdlflora0</th>\n",
       "      <th>nmme0-tmp2m-34w__gfdlflorb0</th>\n",
       "      <th>...</th>\n",
       "      <th>wind-vwnd-925-2010-12</th>\n",
       "      <th>wind-vwnd-925-2010-13</th>\n",
       "      <th>wind-vwnd-925-2010-14</th>\n",
       "      <th>wind-vwnd-925-2010-15</th>\n",
       "      <th>wind-vwnd-925-2010-16</th>\n",
       "      <th>wind-vwnd-925-2010-17</th>\n",
       "      <th>wind-vwnd-925-2010-18</th>\n",
       "      <th>wind-vwnd-925-2010-19</th>\n",
       "      <th>wind-vwnd-925-2010-20</th>\n",
       "      <th>loc_group</th>\n",
       "    </tr>\n",
       "  </thead>\n",
       "  <tbody>\n",
       "    <tr>\n",
       "      <th>0</th>\n",
       "      <td>0</td>\n",
       "      <td>2014-09-01</td>\n",
       "      <td>237.00</td>\n",
       "      <td>29.02</td>\n",
       "      <td>31.64</td>\n",
       "      <td>29.57</td>\n",
       "      <td>30.73</td>\n",
       "      <td>29.71</td>\n",
       "      <td>31.52</td>\n",
       "      <td>31.68</td>\n",
       "      <td>...</td>\n",
       "      <td>-37.21</td>\n",
       "      <td>8.32</td>\n",
       "      <td>9.56</td>\n",
       "      <td>-2.03</td>\n",
       "      <td>48.13</td>\n",
       "      <td>28.09</td>\n",
       "      <td>-13.5</td>\n",
       "      <td>11.9</td>\n",
       "      <td>4.58</td>\n",
       "      <td>0</td>\n",
       "    </tr>\n",
       "    <tr>\n",
       "      <th>290938</th>\n",
       "      <td>290938</td>\n",
       "      <td>2014-09-01</td>\n",
       "      <td>323.63</td>\n",
       "      <td>24.18</td>\n",
       "      <td>26.75</td>\n",
       "      <td>21.09</td>\n",
       "      <td>23.43</td>\n",
       "      <td>21.15</td>\n",
       "      <td>24.08</td>\n",
       "      <td>23.95</td>\n",
       "      <td>...</td>\n",
       "      <td>-37.21</td>\n",
       "      <td>8.32</td>\n",
       "      <td>9.56</td>\n",
       "      <td>-2.03</td>\n",
       "      <td>48.13</td>\n",
       "      <td>28.09</td>\n",
       "      <td>-13.5</td>\n",
       "      <td>11.9</td>\n",
       "      <td>4.58</td>\n",
       "      <td>398</td>\n",
       "    </tr>\n",
       "    <tr>\n",
       "      <th>35819</th>\n",
       "      <td>35819</td>\n",
       "      <td>2014-09-01</td>\n",
       "      <td>385.92</td>\n",
       "      <td>31.16</td>\n",
       "      <td>32.19</td>\n",
       "      <td>33.26</td>\n",
       "      <td>29.80</td>\n",
       "      <td>28.08</td>\n",
       "      <td>33.64</td>\n",
       "      <td>33.73</td>\n",
       "      <td>...</td>\n",
       "      <td>-37.21</td>\n",
       "      <td>8.32</td>\n",
       "      <td>9.56</td>\n",
       "      <td>-2.03</td>\n",
       "      <td>48.13</td>\n",
       "      <td>28.09</td>\n",
       "      <td>-13.5</td>\n",
       "      <td>11.9</td>\n",
       "      <td>4.58</td>\n",
       "      <td>49</td>\n",
       "    </tr>\n",
       "    <tr>\n",
       "      <th>290207</th>\n",
       "      <td>290207</td>\n",
       "      <td>2014-09-01</td>\n",
       "      <td>303.36</td>\n",
       "      <td>23.34</td>\n",
       "      <td>25.66</td>\n",
       "      <td>20.46</td>\n",
       "      <td>23.00</td>\n",
       "      <td>21.76</td>\n",
       "      <td>24.03</td>\n",
       "      <td>23.92</td>\n",
       "      <td>...</td>\n",
       "      <td>-37.21</td>\n",
       "      <td>8.32</td>\n",
       "      <td>9.56</td>\n",
       "      <td>-2.03</td>\n",
       "      <td>48.13</td>\n",
       "      <td>28.09</td>\n",
       "      <td>-13.5</td>\n",
       "      <td>11.9</td>\n",
       "      <td>4.58</td>\n",
       "      <td>397</td>\n",
       "    </tr>\n",
       "    <tr>\n",
       "      <th>289476</th>\n",
       "      <td>289476</td>\n",
       "      <td>2014-09-01</td>\n",
       "      <td>319.97</td>\n",
       "      <td>22.50</td>\n",
       "      <td>24.57</td>\n",
       "      <td>19.67</td>\n",
       "      <td>22.34</td>\n",
       "      <td>21.61</td>\n",
       "      <td>21.83</td>\n",
       "      <td>21.65</td>\n",
       "      <td>...</td>\n",
       "      <td>-37.21</td>\n",
       "      <td>8.32</td>\n",
       "      <td>9.56</td>\n",
       "      <td>-2.03</td>\n",
       "      <td>48.13</td>\n",
       "      <td>28.09</td>\n",
       "      <td>-13.5</td>\n",
       "      <td>11.9</td>\n",
       "      <td>4.58</td>\n",
       "      <td>396</td>\n",
       "    </tr>\n",
       "  </tbody>\n",
       "</table>\n",
       "<p>5 rows × 245 columns</p>\n",
       "</div>"
      ],
      "text/plain": [
       "         index  startdate  contest-pevpr-sfc-gauss-14d__pevpr  \\\n",
       "0            0 2014-09-01                              237.00   \n",
       "290938  290938 2014-09-01                              323.63   \n",
       "35819    35819 2014-09-01                              385.92   \n",
       "290207  290207 2014-09-01                              303.36   \n",
       "289476  289476 2014-09-01                              319.97   \n",
       "\n",
       "        nmme0-tmp2m-34w__cancm30  nmme0-tmp2m-34w__cancm40  \\\n",
       "0                          29.02                     31.64   \n",
       "290938                     24.18                     26.75   \n",
       "35819                      31.16                     32.19   \n",
       "290207                     23.34                     25.66   \n",
       "289476                     22.50                     24.57   \n",
       "\n",
       "        nmme0-tmp2m-34w__ccsm30  nmme0-tmp2m-34w__ccsm40  \\\n",
       "0                         29.57                    30.73   \n",
       "290938                    21.09                    23.43   \n",
       "35819                     33.26                    29.80   \n",
       "290207                    20.46                    23.00   \n",
       "289476                    19.67                    22.34   \n",
       "\n",
       "        nmme0-tmp2m-34w__cfsv20  nmme0-tmp2m-34w__gfdlflora0  \\\n",
       "0                         29.71                        31.52   \n",
       "290938                    21.15                        24.08   \n",
       "35819                     28.08                        33.64   \n",
       "290207                    21.76                        24.03   \n",
       "289476                    21.61                        21.83   \n",
       "\n",
       "        nmme0-tmp2m-34w__gfdlflorb0  ...  wind-vwnd-925-2010-12  \\\n",
       "0                             31.68  ...                 -37.21   \n",
       "290938                        23.95  ...                 -37.21   \n",
       "35819                         33.73  ...                 -37.21   \n",
       "290207                        23.92  ...                 -37.21   \n",
       "289476                        21.65  ...                 -37.21   \n",
       "\n",
       "        wind-vwnd-925-2010-13  wind-vwnd-925-2010-14  wind-vwnd-925-2010-15  \\\n",
       "0                        8.32                   9.56                  -2.03   \n",
       "290938                   8.32                   9.56                  -2.03   \n",
       "35819                    8.32                   9.56                  -2.03   \n",
       "290207                   8.32                   9.56                  -2.03   \n",
       "289476                   8.32                   9.56                  -2.03   \n",
       "\n",
       "        wind-vwnd-925-2010-16  wind-vwnd-925-2010-17  wind-vwnd-925-2010-18  \\\n",
       "0                       48.13                  28.09                  -13.5   \n",
       "290938                  48.13                  28.09                  -13.5   \n",
       "35819                   48.13                  28.09                  -13.5   \n",
       "290207                  48.13                  28.09                  -13.5   \n",
       "289476                  48.13                  28.09                  -13.5   \n",
       "\n",
       "        wind-vwnd-925-2010-19  wind-vwnd-925-2010-20  loc_group  \n",
       "0                        11.9                   4.58          0  \n",
       "290938                   11.9                   4.58        398  \n",
       "35819                    11.9                   4.58         49  \n",
       "290207                   11.9                   4.58        397  \n",
       "289476                   11.9                   4.58        396  \n",
       "\n",
       "[5 rows x 245 columns]"
      ]
     },
     "execution_count": 6,
     "metadata": {},
     "output_type": "execute_result"
    }
   ],
   "source": [
    "df.head()"
   ]
  },
  {
   "cell_type": "markdown",
   "metadata": {},
   "source": [
    "One hot encode the unique locations"
   ]
  },
  {
   "cell_type": "markdown",
   "metadata": {},
   "source": [
    "Impute 7/8 missing values (Ref: https://www.kaggle.com/code/ducnh279/find-x-correctly-impute-7-8-missing-value-columns)"
   ]
  },
  {
   "cell_type": "code",
   "execution_count": 7,
   "metadata": {},
   "outputs": [
    {
     "data": {
      "text/plain": [
       "nmme0-tmp2m-34w__ccsm30    15934\n",
       "nmme-tmp2m-56w__ccsm3      10280\n",
       "nmme-prate-34w__ccsm3       8738\n",
       "nmme0-prate-56w__ccsm30    15934\n",
       "nmme0-prate-34w__ccsm30    15934\n",
       "nmme-prate-56w__ccsm3      10280\n",
       "nmme-tmp2m-34w__ccsm3       8738\n",
       "ccsm30                     15934\n",
       "dtype: int64"
      ]
     },
     "execution_count": 7,
     "metadata": {},
     "output_type": "execute_result"
    }
   ],
   "source": [
    "#check for null values\n",
    "na_df = df.isnull().sum()\n",
    "na_df.loc[lambda x: x > 0]"
   ]
  },
  {
   "cell_type": "code",
   "execution_count": 8,
   "metadata": {},
   "outputs": [],
   "source": [
    "na_cols = [\n",
    "    'nmme0-tmp2m-34w__ccsm30', \n",
    "    'nmme-tmp2m-56w__ccsm3', \n",
    "    'nmme-prate-34w__ccsm3', \n",
    "    'nmme0-prate-56w__ccsm30', \n",
    "    'nmme0-prate-34w__ccsm30', \n",
    "    'nmme-prate-56w__ccsm3', \n",
    "    'nmme-tmp2m-34w__ccsm3'\n",
    "]\n",
    "\n",
    "g_means =  [\n",
    "    'nmme0-tmp2m-34w__nmme0mean', \n",
    "    'nmme-tmp2m-56w__nmmemean', \n",
    "    'nmme-prate-34w__nmmemean', \n",
    "    'nmme0-prate-56w__nmme0mean', \n",
    "    'nmme0-prate-34w__nmme0mean', \n",
    "    'nmme-prate-56w__nmmemean', \n",
    "    'nmme-tmp2m-34w__nmmemean'\n",
    "]\n",
    "\n",
    "\n",
    "g_1 = [\n",
    "    'nmme0-tmp2m-34w__cancm30',\n",
    "    'nmme0-tmp2m-34w__cancm40',\n",
    "    'nmme0-tmp2m-34w__ccsm40',\n",
    "    'nmme0-tmp2m-34w__cfsv20',\n",
    "    'nmme0-tmp2m-34w__gfdlflora0',\n",
    "    'nmme0-tmp2m-34w__gfdlflorb0',\n",
    "    'nmme0-tmp2m-34w__gfdl0',\n",
    "    'nmme0-tmp2m-34w__nasa0'\n",
    "]\n",
    "\n",
    "g_2 = [\n",
    "    'nmme-tmp2m-56w__cancm3',\n",
    "    'nmme-tmp2m-56w__cancm4',\n",
    "    'nmme-tmp2m-56w__ccsm4',\n",
    "    'nmme-tmp2m-56w__cfsv2',\n",
    "    'nmme-tmp2m-56w__gfdl',\n",
    "    'nmme-tmp2m-56w__gfdlflora',\n",
    "    'nmme-tmp2m-56w__gfdlflorb',\n",
    "    'nmme-tmp2m-56w__nasa'\n",
    "]\n",
    "\n",
    "g_3 = [\n",
    "    'nmme-prate-34w__cancm3',\n",
    "    'nmme-prate-34w__cancm4',\n",
    "    'nmme-prate-34w__ccsm4',\n",
    "    'nmme-prate-34w__cfsv2',\n",
    "    'nmme-prate-34w__gfdl',\n",
    "    'nmme-prate-34w__gfdlflora',\n",
    "    'nmme-prate-34w__gfdlflorb',\n",
    "    'nmme-prate-34w__nasa'\n",
    "]\n",
    "\n",
    "g_4 = [\n",
    "    'nmme0-prate-56w__cancm30',\n",
    "    'nmme0-prate-56w__cancm40',\n",
    "    'nmme0-prate-56w__ccsm40',\n",
    "    'nmme0-prate-56w__cfsv20',\n",
    "    'nmme0-prate-56w__gfdlflora0',\n",
    "    'nmme0-prate-56w__gfdlflorb0',\n",
    "    'nmme0-prate-56w__gfdl0',\n",
    "    'nmme0-prate-56w__nasa0'\n",
    "]\n",
    "\n",
    "g_5 = [\n",
    "    'nmme0-prate-34w__cancm30',\n",
    "    'nmme0-prate-34w__cancm40',\n",
    "    'nmme0-prate-34w__ccsm40',\n",
    "    'nmme0-prate-34w__cfsv20',\n",
    "    'nmme0-prate-34w__gfdlflora0',\n",
    "    'nmme0-prate-34w__gfdlflorb0',\n",
    "    'nmme0-prate-34w__gfdl0',\n",
    "    'nmme0-prate-34w__nasa0'\n",
    "]\n",
    "\n",
    "g_6 = [\n",
    "    'nmme-prate-56w__cancm3',\n",
    "    'nmme-prate-56w__cancm4',\n",
    "    'nmme-prate-56w__ccsm4',\n",
    "    'nmme-prate-56w__cfsv2',\n",
    "    'nmme-prate-56w__gfdl',\n",
    "    'nmme-prate-56w__gfdlflora',\n",
    "    'nmme-prate-56w__gfdlflorb',\n",
    "    'nmme-prate-56w__nasa'\n",
    "]\n",
    "\n",
    "g_7 = [\n",
    "    'nmme-tmp2m-34w__cancm3',\n",
    "    'nmme-tmp2m-34w__cancm4',\n",
    "    'nmme-tmp2m-34w__ccsm4',\n",
    "    'nmme-tmp2m-34w__cfsv2',\n",
    "    'nmme-tmp2m-34w__gfdl',\n",
    "    'nmme-tmp2m-34w__gfdlflora',\n",
    "    'nmme-tmp2m-34w__gfdlflorb',\n",
    "    'nmme-tmp2m-34w__nasa'\n",
    "]"
   ]
  },
  {
   "cell_type": "markdown",
   "metadata": {},
   "source": [
    "Impute the feature columns with na values"
   ]
  },
  {
   "cell_type": "code",
   "execution_count": 9,
   "metadata": {},
   "outputs": [],
   "source": [
    "g_lst = [g_1, g_2, g_3, g_4, g_5, g_6, g_7]\n",
    "\n",
    "zip_cols = zip(na_cols, g_lst, g_means)\n",
    "for c, g, m in zip_cols:\n",
    "    df[c] = (df[m]*9) - df[g].sum(1)"
   ]
  },
  {
   "cell_type": "code",
   "execution_count": 10,
   "metadata": {},
   "outputs": [
    {
     "data": {
      "text/plain": [
       "ccsm30    15934\n",
       "dtype: int64"
      ]
     },
     "execution_count": 10,
     "metadata": {},
     "output_type": "execute_result"
    }
   ],
   "source": [
    "na_df = df.isnull().sum()\n",
    "na_df.loc[lambda x: x > 0]"
   ]
  },
  {
   "cell_type": "code",
   "execution_count": 11,
   "metadata": {},
   "outputs": [],
   "source": [
    "df = df.drop('ccsm30', axis=1)"
   ]
  },
  {
   "cell_type": "code",
   "execution_count": 12,
   "metadata": {
    "id": "YD6zBib2nYGt"
   },
   "outputs": [],
   "source": [
    "#separate target from features and remove unnecessary columns\n",
    "cols_to_drop = ['index', 'startdate', target]\n",
    "\n",
    "features = [col for col in df.columns if col not in cols_to_drop]\n",
    "X_df = df[features]\n",
    "y_df = df[target]"
   ]
  },
  {
   "cell_type": "code",
   "execution_count": 13,
   "metadata": {},
   "outputs": [],
   "source": [
    "# one hot encode location groups\n",
    "loc_group = pd.get_dummies(X_df['loc_group'])\n",
    "X_df = pd.concat([X_df, loc_group], axis=1)\n",
    "X_df.drop('loc_group', axis=1, inplace=True)"
   ]
  },
  {
   "cell_type": "markdown",
   "metadata": {},
   "source": [
    "Convert 3-4 week and 5-6 week variables to be within 14 days (Ref: TODO)"
   ]
  },
  {
   "cell_type": "markdown",
   "metadata": {},
   "source": [
    "One Hot Encode climate regions"
   ]
  },
  {
   "cell_type": "code",
   "execution_count": 14,
   "metadata": {},
   "outputs": [],
   "source": [
    "# one hot encode climate regions\n",
    "climate_regions = pd.get_dummies(X_df['climateregions__climateregion'])\n",
    "X_df = pd.concat([X_df, climate_regions], axis=1)\n",
    "X_df.drop('climateregions__climateregion', axis=1, inplace=True)"
   ]
  },
  {
   "cell_type": "code",
   "execution_count": 15,
   "metadata": {},
   "outputs": [],
   "source": [
    "nmme_tm2m_34w_features = X_df.columns[X_df.columns.str.startswith('nmme0-tmp2m-34w')].tolist()\n",
    "nmme_tm2m_56w_features = X_df.columns[X_df.columns.str.startswith('nmme-tmp2m-56w')].tolist()\n",
    "\n",
    "# 4 * 7 = 28 so shifting by -14 brings us to 14 days\n",
    "X_df[nmme_tm2m_34w_features] = X_df[nmme_tm2m_34w_features].shift(-14).ffill()\n",
    "\n",
    "# 6 * 7 = 42 so shifting by -28 brings us to 14 days\n",
    "X_df[nmme_tm2m_56w_features] = X_df[nmme_tm2m_34w_features].shift(-28).ffill()"
   ]
  },
  {
   "cell_type": "code",
   "execution_count": 16,
   "metadata": {},
   "outputs": [],
   "source": [
    "#split data into train and test\n",
    "X_train, X_test, y_train, y_test = train_test_split(X_df, y_df, test_size=0.33, random_state=0)"
   ]
  },
  {
   "cell_type": "code",
   "execution_count": 17,
   "metadata": {
    "id": "FeIa22zloaLu"
   },
   "outputs": [],
   "source": [
    "X_scaler = MinMaxScaler()\n",
    "\n",
    "# standardize the data\n",
    "X_train = X_scaler.fit_transform(X_train)\n",
    "X_test = X_scaler.transform(X_test)\n",
    "y_train = y_train.to_numpy()\n",
    "y_test = y_test.to_numpy()"
   ]
  },
  {
   "cell_type": "code",
   "execution_count": 18,
   "metadata": {},
   "outputs": [
    {
     "name": "stdout",
     "output_type": "stream",
     "text": [
      "(251741, 768)\n",
      "(251741,)\n",
      "(123993, 768)\n",
      "(123993,)\n"
     ]
    }
   ],
   "source": [
    "print(X_train.shape)\n",
    "print(y_train.shape)\n",
    "print(X_test.shape)\n",
    "print(y_test.shape)"
   ]
  },
  {
   "cell_type": "code",
   "execution_count": 24,
   "metadata": {},
   "outputs": [],
   "source": [
    "#loss with relu activation\n",
    "def build_model():\n",
    "    model = keras.Sequential([\n",
    "        keras.layers.Dense(256, activation='relu'),\n",
    "        keras.layers.Dense(256, activation='relu'),\n",
    "        keras.layers.Dense(1)\n",
    "    ])\n",
    "    \n",
    "    model.compile(loss='mean_squared_error',\n",
    "                optimizer=keras.optimizers.Adam(0.001),\n",
    "                 metrics=['RootMeanSquaredError'])\n",
    "    \n",
    "    return model"
   ]
  },
  {
   "cell_type": "code",
   "execution_count": 25,
   "metadata": {},
   "outputs": [
    {
     "name": "stderr",
     "output_type": "stream",
     "text": [
      "2023-03-18 17:13:18.788877: I tensorflow/core/common_runtime/pluggable_device/pluggable_device_factory.cc:305] Could not identify NUMA node of platform GPU ID 0, defaulting to 0. Your kernel may not have been built with NUMA support.\n",
      "2023-03-18 17:13:18.789620: I tensorflow/core/common_runtime/pluggable_device/pluggable_device_factory.cc:271] Created TensorFlow device (/job:localhost/replica:0/task:0/device:GPU:0 with 0 MB memory) -> physical PluggableDevice (device: 0, name: METAL, pci bus id: <undefined>)\n"
     ]
    },
    {
     "name": "stdout",
     "output_type": "stream",
     "text": [
      "Metal device set to: Apple M2\n",
      "Epoch 1/20\n"
     ]
    },
    {
     "name": "stderr",
     "output_type": "stream",
     "text": [
      "2023-03-18 17:13:19.593317: W tensorflow/core/platform/profile_utils/cpu_utils.cc:128] Failed to get CPU frequency: 0 Hz\n"
     ]
    },
    {
     "name": "stdout",
     "output_type": "stream",
     "text": [
      "  13/7867 [..............................] - ETA: 34s - loss: 126.7540 - root_mean_squared_error: 11.2585  "
     ]
    },
    {
     "name": "stderr",
     "output_type": "stream",
     "text": [
      "2023-03-18 17:13:19.805140: I tensorflow/core/grappler/optimizers/custom_graph_optimizer_registry.cc:113] Plugin optimizer for device_type GPU is enabled.\n"
     ]
    },
    {
     "name": "stdout",
     "output_type": "stream",
     "text": [
      "7867/7867 [==============================] - ETA: 0s - loss: 1.6248 - root_mean_squared_error: 1.2747"
     ]
    },
    {
     "name": "stderr",
     "output_type": "stream",
     "text": [
      "2023-03-18 17:13:53.120520: I tensorflow/core/grappler/optimizers/custom_graph_optimizer_registry.cc:113] Plugin optimizer for device_type GPU is enabled.\n"
     ]
    },
    {
     "name": "stdout",
     "output_type": "stream",
     "text": [
      "7867/7867 [==============================] - 42s 5ms/step - loss: 1.6248 - root_mean_squared_error: 1.2747 - val_loss: 0.4395 - val_root_mean_squared_error: 0.6629\n",
      "Epoch 2/20\n",
      "7867/7867 [==============================] - 50s 6ms/step - loss: 0.4280 - root_mean_squared_error: 0.6543 - val_loss: 0.3050 - val_root_mean_squared_error: 0.5523\n",
      "Epoch 3/20\n",
      "7867/7867 [==============================] - 40s 5ms/step - loss: 0.3084 - root_mean_squared_error: 0.5554 - val_loss: 0.2422 - val_root_mean_squared_error: 0.4922\n",
      "Epoch 4/20\n",
      "7867/7867 [==============================] - 39s 5ms/step - loss: 0.2456 - root_mean_squared_error: 0.4956 - val_loss: 0.1923 - val_root_mean_squared_error: 0.4385\n",
      "Epoch 5/20\n",
      "7867/7867 [==============================] - 39s 5ms/step - loss: 0.2048 - root_mean_squared_error: 0.4526 - val_loss: 0.2306 - val_root_mean_squared_error: 0.4802\n",
      "Epoch 6/20\n",
      "7867/7867 [==============================] - 39s 5ms/step - loss: 0.1803 - root_mean_squared_error: 0.4246 - val_loss: 0.2034 - val_root_mean_squared_error: 0.4510\n",
      "Epoch 7/20\n",
      "7867/7867 [==============================] - 40s 5ms/step - loss: 0.1589 - root_mean_squared_error: 0.3987 - val_loss: 0.1368 - val_root_mean_squared_error: 0.3699\n",
      "Epoch 8/20\n",
      "7867/7867 [==============================] - 39s 5ms/step - loss: 0.1444 - root_mean_squared_error: 0.3799 - val_loss: 0.1182 - val_root_mean_squared_error: 0.3439\n",
      "Epoch 9/20\n",
      "7867/7867 [==============================] - 39s 5ms/step - loss: 0.1335 - root_mean_squared_error: 0.3654 - val_loss: 0.1502 - val_root_mean_squared_error: 0.3875\n",
      "Epoch 10/20\n",
      "7867/7867 [==============================] - 39s 5ms/step - loss: 0.1221 - root_mean_squared_error: 0.3494 - val_loss: 0.1446 - val_root_mean_squared_error: 0.3802\n",
      "Epoch 11/20\n",
      "7867/7867 [==============================] - 40s 5ms/step - loss: 0.1145 - root_mean_squared_error: 0.3384 - val_loss: 0.1028 - val_root_mean_squared_error: 0.3207\n",
      "Epoch 12/20\n",
      "7867/7867 [==============================] - 40s 5ms/step - loss: 0.1077 - root_mean_squared_error: 0.3282 - val_loss: 0.0994 - val_root_mean_squared_error: 0.3152\n",
      "Epoch 13/20\n",
      "7867/7867 [==============================] - 43s 5ms/step - loss: 0.1014 - root_mean_squared_error: 0.3184 - val_loss: 0.0947 - val_root_mean_squared_error: 0.3078\n",
      "Epoch 14/20\n",
      "7867/7867 [==============================] - 40s 5ms/step - loss: 0.0953 - root_mean_squared_error: 0.3088 - val_loss: 0.1049 - val_root_mean_squared_error: 0.3238\n",
      "Epoch 15/20\n",
      "7867/7867 [==============================] - 39s 5ms/step - loss: 0.0924 - root_mean_squared_error: 0.3039 - val_loss: 0.0825 - val_root_mean_squared_error: 0.2873\n",
      "Epoch 16/20\n",
      "7867/7867 [==============================] - 40s 5ms/step - loss: 0.0871 - root_mean_squared_error: 0.2951 - val_loss: 0.0787 - val_root_mean_squared_error: 0.2806\n",
      "Epoch 17/20\n",
      "7867/7867 [==============================] - 40s 5ms/step - loss: 0.0845 - root_mean_squared_error: 0.2907 - val_loss: 0.1042 - val_root_mean_squared_error: 0.3228\n",
      "Epoch 18/20\n",
      "7867/7867 [==============================] - 40s 5ms/step - loss: 0.0804 - root_mean_squared_error: 0.2835 - val_loss: 0.0807 - val_root_mean_squared_error: 0.2840\n",
      "Epoch 19/20\n",
      "7867/7867 [==============================] - 40s 5ms/step - loss: 0.0784 - root_mean_squared_error: 0.2801 - val_loss: 0.0923 - val_root_mean_squared_error: 0.3038\n",
      "Epoch 20/20\n",
      "7867/7867 [==============================] - 39s 5ms/step - loss: 0.0763 - root_mean_squared_error: 0.2762 - val_loss: 0.0690 - val_root_mean_squared_error: 0.2627\n"
     ]
    }
   ],
   "source": [
    "model = build_model()\n",
    "\n",
    "history = model.fit(X_train, y_train, epochs=20, validation_data=(X_test, y_test))"
   ]
  },
  {
   "cell_type": "code",
   "execution_count": 26,
   "metadata": {},
   "outputs": [
    {
     "name": "stdout",
     "output_type": "stream",
     "text": [
      " 133/3875 [>.............................] - ETA: 4s"
     ]
    },
    {
     "name": "stderr",
     "output_type": "stream",
     "text": [
      "2023-03-18 17:26:47.246419: I tensorflow/core/grappler/optimizers/custom_graph_optimizer_registry.cc:113] Plugin optimizer for device_type GPU is enabled.\n"
     ]
    },
    {
     "name": "stdout",
     "output_type": "stream",
     "text": [
      "3875/3875 [==============================] - 4s 1ms/step\n"
     ]
    }
   ],
   "source": [
    "y_pred = model.predict(X_test)"
   ]
  },
  {
   "cell_type": "code",
   "execution_count": 27,
   "metadata": {},
   "outputs": [
    {
     "data": {
      "text/plain": [
       "array([27.96264008, -6.59673734, 11.33674717, ...,  7.23453552,\n",
       "        5.54445786,  2.98357452])"
      ]
     },
     "execution_count": 27,
     "metadata": {},
     "output_type": "execute_result"
    }
   ],
   "source": [
    "y_test"
   ]
  },
  {
   "cell_type": "code",
   "execution_count": 28,
   "metadata": {},
   "outputs": [
    {
     "data": {
      "text/plain": [
       "array([[27.704433 ],\n",
       "       [-6.5653944],\n",
       "       [11.3547735],\n",
       "       ...,\n",
       "       [ 7.4894495],\n",
       "       [ 5.2273455],\n",
       "       [ 3.3179042]], dtype=float32)"
      ]
     },
     "execution_count": 28,
     "metadata": {},
     "output_type": "execute_result"
    }
   ],
   "source": [
    "y_pred"
   ]
  },
  {
   "cell_type": "code",
   "execution_count": 29,
   "metadata": {},
   "outputs": [],
   "source": [
    "#testing loss with linear activation\n",
    "def build_model2():\n",
    "    model = keras.Sequential([\n",
    "        keras.layers.Dense(256, activation='linear'),\n",
    "        keras.layers.Dense(256, activation='linear'),\n",
    "        keras.layers.Dense(1)\n",
    "    ])\n",
    "    \n",
    "    model.compile(loss='mean_squared_error',\n",
    "                optimizer=keras.optimizers.Adam(0.001),\n",
    "                 metrics=['RootMeanSquaredError'])\n",
    "    \n",
    "    return model"
   ]
  },
  {
   "cell_type": "code",
   "execution_count": 30,
   "metadata": {},
   "outputs": [
    {
     "name": "stdout",
     "output_type": "stream",
     "text": [
      "Epoch 1/20\n",
      "  26/7867 [..............................] - ETA: 32s - loss: 72.3832 - root_mean_squared_error: 8.5078   "
     ]
    },
    {
     "name": "stderr",
     "output_type": "stream",
     "text": [
      "2023-03-18 17:26:53.217324: I tensorflow/core/grappler/optimizers/custom_graph_optimizer_registry.cc:113] Plugin optimizer for device_type GPU is enabled.\n"
     ]
    },
    {
     "name": "stdout",
     "output_type": "stream",
     "text": [
      "7864/7867 [============================>.] - ETA: 0s - loss: 2.0616 - root_mean_squared_error: 1.4358"
     ]
    },
    {
     "name": "stderr",
     "output_type": "stream",
     "text": [
      "2023-03-18 17:27:24.802317: I tensorflow/core/grappler/optimizers/custom_graph_optimizer_registry.cc:113] Plugin optimizer for device_type GPU is enabled.\n"
     ]
    },
    {
     "name": "stdout",
     "output_type": "stream",
     "text": [
      "7867/7867 [==============================] - 39s 5ms/step - loss: 2.0613 - root_mean_squared_error: 1.4357 - val_loss: 1.1666 - val_root_mean_squared_error: 1.0801\n",
      "Epoch 2/20\n",
      "7867/7867 [==============================] - 39s 5ms/step - loss: 1.2744 - root_mean_squared_error: 1.1289 - val_loss: 1.1175 - val_root_mean_squared_error: 1.0571\n",
      "Epoch 3/20\n",
      "7867/7867 [==============================] - 40s 5ms/step - loss: 1.2072 - root_mean_squared_error: 1.0987 - val_loss: 1.1458 - val_root_mean_squared_error: 1.0704\n",
      "Epoch 4/20\n",
      "7867/7867 [==============================] - 39s 5ms/step - loss: 1.1548 - root_mean_squared_error: 1.0746 - val_loss: 1.2712 - val_root_mean_squared_error: 1.1275\n"
     ]
    },
    {
     "data": {
      "text/plain": [
       "<keras.callbacks.History at 0x2d00a8340>"
      ]
     },
     "execution_count": 30,
     "metadata": {},
     "output_type": "execute_result"
    }
   ],
   "source": [
    "m2 = build_model2()\n",
    "\n",
    "early_stopping = tf.keras.callbacks.EarlyStopping(monitor='val_loss',\n",
    "                                                patience=2,\n",
    "                                                mode='min')\n",
    "\n",
    "m2.fit(X_train, y_train, epochs=20, batch_size=32, validation_data=(X_test, y_test), callbacks=[early_stopping])"
   ]
  },
  {
   "cell_type": "code",
   "execution_count": 31,
   "metadata": {},
   "outputs": [
    {
     "name": "stdout",
     "output_type": "stream",
     "text": [
      " 141/3875 [>.............................] - ETA: 4s"
     ]
    },
    {
     "name": "stderr",
     "output_type": "stream",
     "text": [
      "2023-03-18 17:29:31.197831: I tensorflow/core/grappler/optimizers/custom_graph_optimizer_registry.cc:113] Plugin optimizer for device_type GPU is enabled.\n"
     ]
    },
    {
     "name": "stdout",
     "output_type": "stream",
     "text": [
      "3875/3875 [==============================] - 4s 1ms/step\n"
     ]
    },
    {
     "data": {
      "text/plain": [
       "array([[27.16119  ],\n",
       "       [-5.1161466],\n",
       "       [ 9.380339 ],\n",
       "       ...,\n",
       "       [ 8.353188 ],\n",
       "       [ 4.4532046],\n",
       "       [ 3.771752 ]], dtype=float32)"
      ]
     },
     "execution_count": 31,
     "metadata": {},
     "output_type": "execute_result"
    }
   ],
   "source": [
    "m2.predict(X_test)"
   ]
  },
  {
   "cell_type": "code",
   "execution_count": 32,
   "metadata": {},
   "outputs": [
    {
     "data": {
      "text/plain": [
       "array([27.96264008, -6.59673734, 11.33674717, ...,  7.23453552,\n",
       "        5.54445786,  2.98357452])"
      ]
     },
     "execution_count": 32,
     "metadata": {},
     "output_type": "execute_result"
    }
   ],
   "source": [
    "y_test"
   ]
  },
  {
   "cell_type": "code",
   "execution_count": 33,
   "metadata": {},
   "outputs": [],
   "source": [
    "#try lasso regression\n",
    "from sklearn.linear_model import Lasso\n",
    "from sklearn.metrics import mean_squared_error"
   ]
  },
  {
   "cell_type": "code",
   "execution_count": 34,
   "metadata": {},
   "outputs": [
    {
     "data": {
      "text/html": [
       "<style>#sk-container-id-1 {color: black;background-color: white;}#sk-container-id-1 pre{padding: 0;}#sk-container-id-1 div.sk-toggleable {background-color: white;}#sk-container-id-1 label.sk-toggleable__label {cursor: pointer;display: block;width: 100%;margin-bottom: 0;padding: 0.3em;box-sizing: border-box;text-align: center;}#sk-container-id-1 label.sk-toggleable__label-arrow:before {content: \"▸\";float: left;margin-right: 0.25em;color: #696969;}#sk-container-id-1 label.sk-toggleable__label-arrow:hover:before {color: black;}#sk-container-id-1 div.sk-estimator:hover label.sk-toggleable__label-arrow:before {color: black;}#sk-container-id-1 div.sk-toggleable__content {max-height: 0;max-width: 0;overflow: hidden;text-align: left;background-color: #f0f8ff;}#sk-container-id-1 div.sk-toggleable__content pre {margin: 0.2em;color: black;border-radius: 0.25em;background-color: #f0f8ff;}#sk-container-id-1 input.sk-toggleable__control:checked~div.sk-toggleable__content {max-height: 200px;max-width: 100%;overflow: auto;}#sk-container-id-1 input.sk-toggleable__control:checked~label.sk-toggleable__label-arrow:before {content: \"▾\";}#sk-container-id-1 div.sk-estimator input.sk-toggleable__control:checked~label.sk-toggleable__label {background-color: #d4ebff;}#sk-container-id-1 div.sk-label input.sk-toggleable__control:checked~label.sk-toggleable__label {background-color: #d4ebff;}#sk-container-id-1 input.sk-hidden--visually {border: 0;clip: rect(1px 1px 1px 1px);clip: rect(1px, 1px, 1px, 1px);height: 1px;margin: -1px;overflow: hidden;padding: 0;position: absolute;width: 1px;}#sk-container-id-1 div.sk-estimator {font-family: monospace;background-color: #f0f8ff;border: 1px dotted black;border-radius: 0.25em;box-sizing: border-box;margin-bottom: 0.5em;}#sk-container-id-1 div.sk-estimator:hover {background-color: #d4ebff;}#sk-container-id-1 div.sk-parallel-item::after {content: \"\";width: 100%;border-bottom: 1px solid gray;flex-grow: 1;}#sk-container-id-1 div.sk-label:hover label.sk-toggleable__label {background-color: #d4ebff;}#sk-container-id-1 div.sk-serial::before {content: \"\";position: absolute;border-left: 1px solid gray;box-sizing: border-box;top: 0;bottom: 0;left: 50%;z-index: 0;}#sk-container-id-1 div.sk-serial {display: flex;flex-direction: column;align-items: center;background-color: white;padding-right: 0.2em;padding-left: 0.2em;position: relative;}#sk-container-id-1 div.sk-item {position: relative;z-index: 1;}#sk-container-id-1 div.sk-parallel {display: flex;align-items: stretch;justify-content: center;background-color: white;position: relative;}#sk-container-id-1 div.sk-item::before, #sk-container-id-1 div.sk-parallel-item::before {content: \"\";position: absolute;border-left: 1px solid gray;box-sizing: border-box;top: 0;bottom: 0;left: 50%;z-index: -1;}#sk-container-id-1 div.sk-parallel-item {display: flex;flex-direction: column;z-index: 1;position: relative;background-color: white;}#sk-container-id-1 div.sk-parallel-item:first-child::after {align-self: flex-end;width: 50%;}#sk-container-id-1 div.sk-parallel-item:last-child::after {align-self: flex-start;width: 50%;}#sk-container-id-1 div.sk-parallel-item:only-child::after {width: 0;}#sk-container-id-1 div.sk-dashed-wrapped {border: 1px dashed gray;margin: 0 0.4em 0.5em 0.4em;box-sizing: border-box;padding-bottom: 0.4em;background-color: white;}#sk-container-id-1 div.sk-label label {font-family: monospace;font-weight: bold;display: inline-block;line-height: 1.2em;}#sk-container-id-1 div.sk-label-container {text-align: center;}#sk-container-id-1 div.sk-container {/* jupyter's `normalize.less` sets `[hidden] { display: none; }` but bootstrap.min.css set `[hidden] { display: none !important; }` so we also need the `!important` here to be able to override the default hidden behavior on the sphinx rendered scikit-learn.org. See: https://github.com/scikit-learn/scikit-learn/issues/21755 */display: inline-block !important;position: relative;}#sk-container-id-1 div.sk-text-repr-fallback {display: none;}</style><div id=\"sk-container-id-1\" class=\"sk-top-container\"><div class=\"sk-text-repr-fallback\"><pre>Lasso(alpha=0.05)</pre><b>In a Jupyter environment, please rerun this cell to show the HTML representation or trust the notebook. <br />On GitHub, the HTML representation is unable to render, please try loading this page with nbviewer.org.</b></div><div class=\"sk-container\" hidden><div class=\"sk-item\"><div class=\"sk-estimator sk-toggleable\"><input class=\"sk-toggleable__control sk-hidden--visually\" id=\"sk-estimator-id-1\" type=\"checkbox\" checked><label for=\"sk-estimator-id-1\" class=\"sk-toggleable__label sk-toggleable__label-arrow\">Lasso</label><div class=\"sk-toggleable__content\"><pre>Lasso(alpha=0.05)</pre></div></div></div></div></div>"
      ],
      "text/plain": [
       "Lasso(alpha=0.05)"
      ]
     },
     "execution_count": 34,
     "metadata": {},
     "output_type": "execute_result"
    }
   ],
   "source": [
    "m3 = Lasso(alpha = 0.05)\n",
    "\n",
    "m3.fit(X_train, y_train)"
   ]
  },
  {
   "cell_type": "code",
   "execution_count": 35,
   "metadata": {},
   "outputs": [
    {
     "data": {
      "text/plain": [
       "array([27.04099863, -5.37978116,  9.74510518, ..., 10.34718869,\n",
       "        2.23692354,  5.44499078])"
      ]
     },
     "execution_count": 35,
     "metadata": {},
     "output_type": "execute_result"
    }
   ],
   "source": [
    "y_pred = m3.predict(X_test)\n",
    "y_pred"
   ]
  },
  {
   "cell_type": "code",
   "execution_count": 36,
   "metadata": {},
   "outputs": [
    {
     "name": "stdout",
     "output_type": "stream",
     "text": [
      "RSME: 1.9555213191467296\n"
     ]
    }
   ],
   "source": [
    "rsme = mean_squared_error(y_test, y_pred, squared=False)\n",
    "print(f'RSME: {rsme}')"
   ]
  },
  {
   "cell_type": "markdown",
   "metadata": {},
   "source": [
    "### Training on the entire dataset using the first model"
   ]
  },
  {
   "cell_type": "code",
   "execution_count": 37,
   "metadata": {},
   "outputs": [],
   "source": [
    "all_X = X_scaler.transform(X_df)\n",
    "all_y = y_df.to_numpy()\n",
    "\n",
    "final_model = build_model()"
   ]
  },
  {
   "cell_type": "code",
   "execution_count": 38,
   "metadata": {},
   "outputs": [
    {
     "name": "stdout",
     "output_type": "stream",
     "text": [
      "Epoch 1/20\n",
      "   26/11742 [..............................] - ETA: 50s - loss: 106.2241 - root_mean_squared_error: 10.3065 "
     ]
    },
    {
     "name": "stderr",
     "output_type": "stream",
     "text": [
      "2023-03-18 17:30:45.033208: I tensorflow/core/grappler/optimizers/custom_graph_optimizer_registry.cc:113] Plugin optimizer for device_type GPU is enabled.\n"
     ]
    },
    {
     "name": "stdout",
     "output_type": "stream",
     "text": [
      "11742/11742 [==============================] - 49s 4ms/step - loss: 1.3018 - root_mean_squared_error: 1.1410\n",
      "Epoch 2/20\n",
      "11742/11742 [==============================] - 48s 4ms/step - loss: 0.3379 - root_mean_squared_error: 0.5813\n",
      "Epoch 3/20\n",
      "11742/11742 [==============================] - 48s 4ms/step - loss: 0.2348 - root_mean_squared_error: 0.4846\n",
      "Epoch 4/20\n",
      "11742/11742 [==============================] - 48s 4ms/step - loss: 0.1889 - root_mean_squared_error: 0.4347\n",
      "Epoch 5/20\n",
      "11742/11742 [==============================] - 48s 4ms/step - loss: 0.1579 - root_mean_squared_error: 0.3973\n",
      "Epoch 6/20\n",
      "11742/11742 [==============================] - 49s 4ms/step - loss: 0.1358 - root_mean_squared_error: 0.3686\n",
      "Epoch 7/20\n",
      "11742/11742 [==============================] - 48s 4ms/step - loss: 0.1219 - root_mean_squared_error: 0.3491\n",
      "Epoch 8/20\n",
      "11742/11742 [==============================] - 49s 4ms/step - loss: 0.1094 - root_mean_squared_error: 0.3307\n",
      "Epoch 9/20\n",
      "11742/11742 [==============================] - 48s 4ms/step - loss: 0.1022 - root_mean_squared_error: 0.3197\n",
      "Epoch 10/20\n",
      "11742/11742 [==============================] - 48s 4ms/step - loss: 0.0948 - root_mean_squared_error: 0.3079\n",
      "Epoch 11/20\n",
      "11742/11742 [==============================] - 48s 4ms/step - loss: 0.0893 - root_mean_squared_error: 0.2989\n",
      "Epoch 12/20\n",
      "11742/11742 [==============================] - 48s 4ms/step - loss: 0.0846 - root_mean_squared_error: 0.2908\n",
      "Epoch 13/20\n",
      "11742/11742 [==============================] - 48s 4ms/step - loss: 0.0793 - root_mean_squared_error: 0.2816\n",
      "Epoch 14/20\n",
      "11742/11742 [==============================] - 48s 4ms/step - loss: 0.0769 - root_mean_squared_error: 0.2773\n",
      "Epoch 15/20\n",
      "11742/11742 [==============================] - 48s 4ms/step - loss: 0.0731 - root_mean_squared_error: 0.2703\n",
      "Epoch 16/20\n",
      "11742/11742 [==============================] - 48s 4ms/step - loss: 0.0699 - root_mean_squared_error: 0.2644\n",
      "Epoch 17/20\n",
      "11742/11742 [==============================] - 48s 4ms/step - loss: 0.0677 - root_mean_squared_error: 0.2601\n",
      "Epoch 18/20\n",
      "11742/11742 [==============================] - 48s 4ms/step - loss: 0.0660 - root_mean_squared_error: 0.2570\n",
      "Epoch 19/20\n",
      "11742/11742 [==============================] - 48s 4ms/step - loss: 0.0637 - root_mean_squared_error: 0.2523\n",
      "Epoch 20/20\n",
      "11742/11742 [==============================] - 50s 4ms/step - loss: 0.0622 - root_mean_squared_error: 0.2493\n"
     ]
    },
    {
     "data": {
      "text/plain": [
       "<keras.callbacks.History at 0x28f07fac0>"
      ]
     },
     "execution_count": 38,
     "metadata": {},
     "output_type": "execute_result"
    }
   ],
   "source": [
    "final_model.fit(all_X, all_y, epochs=20) "
   ]
  },
  {
   "cell_type": "markdown",
   "metadata": {},
   "source": [
    "### Submission Preparation"
   ]
  },
  {
   "cell_type": "code",
   "execution_count": 39,
   "metadata": {},
   "outputs": [
    {
     "data": {
      "text/html": [
       "<div>\n",
       "<style scoped>\n",
       "    .dataframe tbody tr th:only-of-type {\n",
       "        vertical-align: middle;\n",
       "    }\n",
       "\n",
       "    .dataframe tbody tr th {\n",
       "        vertical-align: top;\n",
       "    }\n",
       "\n",
       "    .dataframe thead th {\n",
       "        text-align: right;\n",
       "    }\n",
       "</style>\n",
       "<table border=\"1\" class=\"dataframe\">\n",
       "  <thead>\n",
       "    <tr style=\"text-align: right;\">\n",
       "      <th></th>\n",
       "      <th>index</th>\n",
       "      <th>startdate</th>\n",
       "      <th>contest-pevpr-sfc-gauss-14d__pevpr</th>\n",
       "      <th>nmme0-tmp2m-34w__cancm30</th>\n",
       "      <th>nmme0-tmp2m-34w__cancm40</th>\n",
       "      <th>nmme0-tmp2m-34w__ccsm30</th>\n",
       "      <th>nmme0-tmp2m-34w__ccsm40</th>\n",
       "      <th>nmme0-tmp2m-34w__cfsv20</th>\n",
       "      <th>nmme0-tmp2m-34w__gfdlflora0</th>\n",
       "      <th>nmme0-tmp2m-34w__gfdlflorb0</th>\n",
       "      <th>...</th>\n",
       "      <th>wind-vwnd-925-2010-12</th>\n",
       "      <th>wind-vwnd-925-2010-13</th>\n",
       "      <th>wind-vwnd-925-2010-14</th>\n",
       "      <th>wind-vwnd-925-2010-15</th>\n",
       "      <th>wind-vwnd-925-2010-16</th>\n",
       "      <th>wind-vwnd-925-2010-17</th>\n",
       "      <th>wind-vwnd-925-2010-18</th>\n",
       "      <th>wind-vwnd-925-2010-19</th>\n",
       "      <th>wind-vwnd-925-2010-20</th>\n",
       "      <th>loc_group</th>\n",
       "    </tr>\n",
       "  </thead>\n",
       "  <tbody>\n",
       "    <tr>\n",
       "      <th>0</th>\n",
       "      <td>0</td>\n",
       "      <td>2014-09-01</td>\n",
       "      <td>237.00</td>\n",
       "      <td>29.02</td>\n",
       "      <td>31.64</td>\n",
       "      <td>29.62</td>\n",
       "      <td>30.73</td>\n",
       "      <td>29.71</td>\n",
       "      <td>31.52</td>\n",
       "      <td>31.68</td>\n",
       "      <td>...</td>\n",
       "      <td>-37.21</td>\n",
       "      <td>8.32</td>\n",
       "      <td>9.56</td>\n",
       "      <td>-2.03</td>\n",
       "      <td>48.13</td>\n",
       "      <td>28.09</td>\n",
       "      <td>-13.5</td>\n",
       "      <td>11.9</td>\n",
       "      <td>4.58</td>\n",
       "      <td>0</td>\n",
       "    </tr>\n",
       "    <tr>\n",
       "      <th>290938</th>\n",
       "      <td>290938</td>\n",
       "      <td>2014-09-01</td>\n",
       "      <td>323.63</td>\n",
       "      <td>24.18</td>\n",
       "      <td>26.75</td>\n",
       "      <td>21.04</td>\n",
       "      <td>23.43</td>\n",
       "      <td>21.15</td>\n",
       "      <td>24.08</td>\n",
       "      <td>23.95</td>\n",
       "      <td>...</td>\n",
       "      <td>-37.21</td>\n",
       "      <td>8.32</td>\n",
       "      <td>9.56</td>\n",
       "      <td>-2.03</td>\n",
       "      <td>48.13</td>\n",
       "      <td>28.09</td>\n",
       "      <td>-13.5</td>\n",
       "      <td>11.9</td>\n",
       "      <td>4.58</td>\n",
       "      <td>398</td>\n",
       "    </tr>\n",
       "    <tr>\n",
       "      <th>35819</th>\n",
       "      <td>35819</td>\n",
       "      <td>2014-09-01</td>\n",
       "      <td>385.92</td>\n",
       "      <td>31.16</td>\n",
       "      <td>32.19</td>\n",
       "      <td>33.29</td>\n",
       "      <td>29.80</td>\n",
       "      <td>28.08</td>\n",
       "      <td>33.64</td>\n",
       "      <td>33.73</td>\n",
       "      <td>...</td>\n",
       "      <td>-37.21</td>\n",
       "      <td>8.32</td>\n",
       "      <td>9.56</td>\n",
       "      <td>-2.03</td>\n",
       "      <td>48.13</td>\n",
       "      <td>28.09</td>\n",
       "      <td>-13.5</td>\n",
       "      <td>11.9</td>\n",
       "      <td>4.58</td>\n",
       "      <td>49</td>\n",
       "    </tr>\n",
       "    <tr>\n",
       "      <th>290207</th>\n",
       "      <td>290207</td>\n",
       "      <td>2014-09-01</td>\n",
       "      <td>303.36</td>\n",
       "      <td>23.34</td>\n",
       "      <td>25.66</td>\n",
       "      <td>20.50</td>\n",
       "      <td>23.00</td>\n",
       "      <td>21.76</td>\n",
       "      <td>24.03</td>\n",
       "      <td>23.92</td>\n",
       "      <td>...</td>\n",
       "      <td>-37.21</td>\n",
       "      <td>8.32</td>\n",
       "      <td>9.56</td>\n",
       "      <td>-2.03</td>\n",
       "      <td>48.13</td>\n",
       "      <td>28.09</td>\n",
       "      <td>-13.5</td>\n",
       "      <td>11.9</td>\n",
       "      <td>4.58</td>\n",
       "      <td>397</td>\n",
       "    </tr>\n",
       "    <tr>\n",
       "      <th>289476</th>\n",
       "      <td>289476</td>\n",
       "      <td>2014-09-01</td>\n",
       "      <td>319.97</td>\n",
       "      <td>22.50</td>\n",
       "      <td>24.57</td>\n",
       "      <td>19.66</td>\n",
       "      <td>22.34</td>\n",
       "      <td>21.61</td>\n",
       "      <td>21.83</td>\n",
       "      <td>21.65</td>\n",
       "      <td>...</td>\n",
       "      <td>-37.21</td>\n",
       "      <td>8.32</td>\n",
       "      <td>9.56</td>\n",
       "      <td>-2.03</td>\n",
       "      <td>48.13</td>\n",
       "      <td>28.09</td>\n",
       "      <td>-13.5</td>\n",
       "      <td>11.9</td>\n",
       "      <td>4.58</td>\n",
       "      <td>396</td>\n",
       "    </tr>\n",
       "  </tbody>\n",
       "</table>\n",
       "<p>5 rows × 244 columns</p>\n",
       "</div>"
      ],
      "text/plain": [
       "         index  startdate  contest-pevpr-sfc-gauss-14d__pevpr  \\\n",
       "0            0 2014-09-01                              237.00   \n",
       "290938  290938 2014-09-01                              323.63   \n",
       "35819    35819 2014-09-01                              385.92   \n",
       "290207  290207 2014-09-01                              303.36   \n",
       "289476  289476 2014-09-01                              319.97   \n",
       "\n",
       "        nmme0-tmp2m-34w__cancm30  nmme0-tmp2m-34w__cancm40  \\\n",
       "0                          29.02                     31.64   \n",
       "290938                     24.18                     26.75   \n",
       "35819                      31.16                     32.19   \n",
       "290207                     23.34                     25.66   \n",
       "289476                     22.50                     24.57   \n",
       "\n",
       "        nmme0-tmp2m-34w__ccsm30  nmme0-tmp2m-34w__ccsm40  \\\n",
       "0                         29.62                    30.73   \n",
       "290938                    21.04                    23.43   \n",
       "35819                     33.29                    29.80   \n",
       "290207                    20.50                    23.00   \n",
       "289476                    19.66                    22.34   \n",
       "\n",
       "        nmme0-tmp2m-34w__cfsv20  nmme0-tmp2m-34w__gfdlflora0  \\\n",
       "0                         29.71                        31.52   \n",
       "290938                    21.15                        24.08   \n",
       "35819                     28.08                        33.64   \n",
       "290207                    21.76                        24.03   \n",
       "289476                    21.61                        21.83   \n",
       "\n",
       "        nmme0-tmp2m-34w__gfdlflorb0  ...  wind-vwnd-925-2010-12  \\\n",
       "0                             31.68  ...                 -37.21   \n",
       "290938                        23.95  ...                 -37.21   \n",
       "35819                         33.73  ...                 -37.21   \n",
       "290207                        23.92  ...                 -37.21   \n",
       "289476                        21.65  ...                 -37.21   \n",
       "\n",
       "        wind-vwnd-925-2010-13  wind-vwnd-925-2010-14  wind-vwnd-925-2010-15  \\\n",
       "0                        8.32                   9.56                  -2.03   \n",
       "290938                   8.32                   9.56                  -2.03   \n",
       "35819                    8.32                   9.56                  -2.03   \n",
       "290207                   8.32                   9.56                  -2.03   \n",
       "289476                   8.32                   9.56                  -2.03   \n",
       "\n",
       "        wind-vwnd-925-2010-16  wind-vwnd-925-2010-17  wind-vwnd-925-2010-18  \\\n",
       "0                       48.13                  28.09                  -13.5   \n",
       "290938                  48.13                  28.09                  -13.5   \n",
       "35819                   48.13                  28.09                  -13.5   \n",
       "290207                  48.13                  28.09                  -13.5   \n",
       "289476                  48.13                  28.09                  -13.5   \n",
       "\n",
       "        wind-vwnd-925-2010-19  wind-vwnd-925-2010-20  loc_group  \n",
       "0                        11.9                   4.58          0  \n",
       "290938                   11.9                   4.58        398  \n",
       "35819                    11.9                   4.58         49  \n",
       "290207                   11.9                   4.58        397  \n",
       "289476                   11.9                   4.58        396  \n",
       "\n",
       "[5 rows x 244 columns]"
      ]
     },
     "execution_count": 39,
     "metadata": {},
     "output_type": "execute_result"
    }
   ],
   "source": [
    "test_df = pd.read_csv('widsdatathon2023/test_data.csv', parse_dates=['startdate'])\n",
    "\n",
    "target = 'contest-tmp2m-14d__tmp2m'\n",
    "\n",
    "df.head()"
   ]
  },
  {
   "cell_type": "code",
   "execution_count": 40,
   "metadata": {},
   "outputs": [
    {
     "name": "stdout",
     "output_type": "stream",
     "text": [
      "514 unique locations\n"
     ]
    }
   ],
   "source": [
    "scale = 14\n",
    "\n",
    "test_df.loc[:, 'lat'] = round(test_df.lat, scale)\n",
    "test_df.loc[:, 'lon'] = round(test_df.lon, scale)\n",
    "\n",
    "# Create new feature\n",
    "test_df['loc_group'] = test_df.groupby(['lat','lon']).ngroup().astype('string')\n",
    "\n",
    "print(f'{test_df.loc_group.nunique()} unique locations')\n",
    "\n",
    "# remove lat and lon\n",
    "test_df.drop(['lat', 'lon'], axis=1, inplace=True)"
   ]
  },
  {
   "cell_type": "code",
   "execution_count": 41,
   "metadata": {},
   "outputs": [
    {
     "data": {
      "text/html": [
       "<div>\n",
       "<style scoped>\n",
       "    .dataframe tbody tr th:only-of-type {\n",
       "        vertical-align: middle;\n",
       "    }\n",
       "\n",
       "    .dataframe tbody tr th {\n",
       "        vertical-align: top;\n",
       "    }\n",
       "\n",
       "    .dataframe thead th {\n",
       "        text-align: right;\n",
       "    }\n",
       "</style>\n",
       "<table border=\"1\" class=\"dataframe\">\n",
       "  <thead>\n",
       "    <tr style=\"text-align: right;\">\n",
       "      <th></th>\n",
       "      <th>index</th>\n",
       "      <th>startdate</th>\n",
       "      <th>contest-pevpr-sfc-gauss-14d__pevpr</th>\n",
       "      <th>nmme0-tmp2m-34w__cancm30</th>\n",
       "      <th>nmme0-tmp2m-34w__cancm40</th>\n",
       "      <th>nmme0-tmp2m-34w__ccsm30</th>\n",
       "      <th>nmme0-tmp2m-34w__ccsm40</th>\n",
       "      <th>nmme0-tmp2m-34w__cfsv20</th>\n",
       "      <th>nmme0-tmp2m-34w__gfdlflora0</th>\n",
       "      <th>nmme0-tmp2m-34w__gfdlflorb0</th>\n",
       "      <th>...</th>\n",
       "      <th>wind-vwnd-925-2010-12</th>\n",
       "      <th>wind-vwnd-925-2010-13</th>\n",
       "      <th>wind-vwnd-925-2010-14</th>\n",
       "      <th>wind-vwnd-925-2010-15</th>\n",
       "      <th>wind-vwnd-925-2010-16</th>\n",
       "      <th>wind-vwnd-925-2010-17</th>\n",
       "      <th>wind-vwnd-925-2010-18</th>\n",
       "      <th>wind-vwnd-925-2010-19</th>\n",
       "      <th>wind-vwnd-925-2010-20</th>\n",
       "      <th>loc_group</th>\n",
       "    </tr>\n",
       "  </thead>\n",
       "  <tbody>\n",
       "    <tr>\n",
       "      <th>0</th>\n",
       "      <td>375734</td>\n",
       "      <td>2022-11-01</td>\n",
       "      <td>339.88</td>\n",
       "      <td>30.88</td>\n",
       "      <td>30.92</td>\n",
       "      <td>29.17</td>\n",
       "      <td>31.02</td>\n",
       "      <td>29.47</td>\n",
       "      <td>30.93</td>\n",
       "      <td>30.54</td>\n",
       "      <td>...</td>\n",
       "      <td>-39.77</td>\n",
       "      <td>-29.25</td>\n",
       "      <td>40.88</td>\n",
       "      <td>-8.31</td>\n",
       "      <td>14.91</td>\n",
       "      <td>-24.62</td>\n",
       "      <td>31.05</td>\n",
       "      <td>-23.69</td>\n",
       "      <td>6.27</td>\n",
       "      <td>0</td>\n",
       "    </tr>\n",
       "    <tr>\n",
       "      <th>1</th>\n",
       "      <td>375735</td>\n",
       "      <td>2022-11-02</td>\n",
       "      <td>334.63</td>\n",
       "      <td>30.88</td>\n",
       "      <td>30.92</td>\n",
       "      <td>29.17</td>\n",
       "      <td>31.02</td>\n",
       "      <td>29.47</td>\n",
       "      <td>30.93</td>\n",
       "      <td>30.54</td>\n",
       "      <td>...</td>\n",
       "      <td>-43.14</td>\n",
       "      <td>-28.62</td>\n",
       "      <td>45.37</td>\n",
       "      <td>-5.42</td>\n",
       "      <td>16.97</td>\n",
       "      <td>-23.94</td>\n",
       "      <td>28.84</td>\n",
       "      <td>-20.61</td>\n",
       "      <td>14.16</td>\n",
       "      <td>0</td>\n",
       "    </tr>\n",
       "    <tr>\n",
       "      <th>2</th>\n",
       "      <td>375736</td>\n",
       "      <td>2022-11-03</td>\n",
       "      <td>337.83</td>\n",
       "      <td>30.88</td>\n",
       "      <td>30.92</td>\n",
       "      <td>29.17</td>\n",
       "      <td>31.02</td>\n",
       "      <td>29.47</td>\n",
       "      <td>30.93</td>\n",
       "      <td>30.54</td>\n",
       "      <td>...</td>\n",
       "      <td>-44.22</td>\n",
       "      <td>-27.67</td>\n",
       "      <td>49.76</td>\n",
       "      <td>-1.31</td>\n",
       "      <td>21.44</td>\n",
       "      <td>-19.06</td>\n",
       "      <td>26.85</td>\n",
       "      <td>-16.78</td>\n",
       "      <td>13.42</td>\n",
       "      <td>0</td>\n",
       "    </tr>\n",
       "    <tr>\n",
       "      <th>3</th>\n",
       "      <td>375737</td>\n",
       "      <td>2022-11-04</td>\n",
       "      <td>345.81</td>\n",
       "      <td>30.88</td>\n",
       "      <td>30.92</td>\n",
       "      <td>29.17</td>\n",
       "      <td>31.02</td>\n",
       "      <td>29.47</td>\n",
       "      <td>30.93</td>\n",
       "      <td>30.54</td>\n",
       "      <td>...</td>\n",
       "      <td>-49.47</td>\n",
       "      <td>-19.32</td>\n",
       "      <td>52.62</td>\n",
       "      <td>-0.44</td>\n",
       "      <td>21.65</td>\n",
       "      <td>-23.12</td>\n",
       "      <td>23.70</td>\n",
       "      <td>-18.62</td>\n",
       "      <td>10.69</td>\n",
       "      <td>0</td>\n",
       "    </tr>\n",
       "    <tr>\n",
       "      <th>4</th>\n",
       "      <td>375738</td>\n",
       "      <td>2022-11-05</td>\n",
       "      <td>357.39</td>\n",
       "      <td>30.88</td>\n",
       "      <td>30.92</td>\n",
       "      <td>29.17</td>\n",
       "      <td>31.02</td>\n",
       "      <td>29.47</td>\n",
       "      <td>30.93</td>\n",
       "      <td>30.54</td>\n",
       "      <td>...</td>\n",
       "      <td>-56.07</td>\n",
       "      <td>-9.89</td>\n",
       "      <td>51.23</td>\n",
       "      <td>-7.57</td>\n",
       "      <td>19.86</td>\n",
       "      <td>-30.56</td>\n",
       "      <td>20.66</td>\n",
       "      <td>-25.08</td>\n",
       "      <td>19.64</td>\n",
       "      <td>0</td>\n",
       "    </tr>\n",
       "  </tbody>\n",
       "</table>\n",
       "<p>5 rows × 244 columns</p>\n",
       "</div>"
      ],
      "text/plain": [
       "    index  startdate  contest-pevpr-sfc-gauss-14d__pevpr  \\\n",
       "0  375734 2022-11-01                              339.88   \n",
       "1  375735 2022-11-02                              334.63   \n",
       "2  375736 2022-11-03                              337.83   \n",
       "3  375737 2022-11-04                              345.81   \n",
       "4  375738 2022-11-05                              357.39   \n",
       "\n",
       "   nmme0-tmp2m-34w__cancm30  nmme0-tmp2m-34w__cancm40  \\\n",
       "0                     30.88                     30.92   \n",
       "1                     30.88                     30.92   \n",
       "2                     30.88                     30.92   \n",
       "3                     30.88                     30.92   \n",
       "4                     30.88                     30.92   \n",
       "\n",
       "   nmme0-tmp2m-34w__ccsm30  nmme0-tmp2m-34w__ccsm40  nmme0-tmp2m-34w__cfsv20  \\\n",
       "0                    29.17                    31.02                    29.47   \n",
       "1                    29.17                    31.02                    29.47   \n",
       "2                    29.17                    31.02                    29.47   \n",
       "3                    29.17                    31.02                    29.47   \n",
       "4                    29.17                    31.02                    29.47   \n",
       "\n",
       "   nmme0-tmp2m-34w__gfdlflora0  nmme0-tmp2m-34w__gfdlflorb0  ...  \\\n",
       "0                        30.93                        30.54  ...   \n",
       "1                        30.93                        30.54  ...   \n",
       "2                        30.93                        30.54  ...   \n",
       "3                        30.93                        30.54  ...   \n",
       "4                        30.93                        30.54  ...   \n",
       "\n",
       "   wind-vwnd-925-2010-12  wind-vwnd-925-2010-13  wind-vwnd-925-2010-14  \\\n",
       "0                 -39.77                 -29.25                  40.88   \n",
       "1                 -43.14                 -28.62                  45.37   \n",
       "2                 -44.22                 -27.67                  49.76   \n",
       "3                 -49.47                 -19.32                  52.62   \n",
       "4                 -56.07                  -9.89                  51.23   \n",
       "\n",
       "   wind-vwnd-925-2010-15  wind-vwnd-925-2010-16  wind-vwnd-925-2010-17  \\\n",
       "0                  -8.31                  14.91                 -24.62   \n",
       "1                  -5.42                  16.97                 -23.94   \n",
       "2                  -1.31                  21.44                 -19.06   \n",
       "3                  -0.44                  21.65                 -23.12   \n",
       "4                  -7.57                  19.86                 -30.56   \n",
       "\n",
       "   wind-vwnd-925-2010-18  wind-vwnd-925-2010-19  wind-vwnd-925-2010-20  \\\n",
       "0                  31.05                 -23.69                   6.27   \n",
       "1                  28.84                 -20.61                  14.16   \n",
       "2                  26.85                 -16.78                  13.42   \n",
       "3                  23.70                 -18.62                  10.69   \n",
       "4                  20.66                 -25.08                  19.64   \n",
       "\n",
       "   loc_group  \n",
       "0          0  \n",
       "1          0  \n",
       "2          0  \n",
       "3          0  \n",
       "4          0  \n",
       "\n",
       "[5 rows x 244 columns]"
      ]
     },
     "execution_count": 41,
     "metadata": {},
     "output_type": "execute_result"
    }
   ],
   "source": [
    "test_df.head()"
   ]
  },
  {
   "cell_type": "code",
   "execution_count": 42,
   "metadata": {
    "id": "YD6zBib2nYGt"
   },
   "outputs": [],
   "source": [
    "#separate target from features and remove unnecessary columns\n",
    "cols_to_drop = ['index', 'startdate', 'ccsm30']\n",
    "\n",
    "features = [col for col in test_df.columns if col not in cols_to_drop]\n",
    "X_test_df = test_df[features]"
   ]
  },
  {
   "cell_type": "code",
   "execution_count": 43,
   "metadata": {},
   "outputs": [],
   "source": [
    "# one hot encode location groups\n",
    "loc_group = pd.get_dummies(X_test_df['loc_group'])\n",
    "X_test_df = pd.concat([X_test_df, loc_group], axis=1)\n",
    "X_test_df.drop('loc_group', axis=1, inplace=True)"
   ]
  },
  {
   "cell_type": "markdown",
   "metadata": {},
   "source": [
    "Convert 3-4 week and 5-6 week variables to be within 14 days (Ref: TODO)"
   ]
  },
  {
   "cell_type": "markdown",
   "metadata": {},
   "source": [
    "One Hot Encode climate regions"
   ]
  },
  {
   "cell_type": "code",
   "execution_count": 44,
   "metadata": {},
   "outputs": [],
   "source": [
    "# one hot encode climate regions\n",
    "climate_regions = pd.get_dummies(X_test_df['climateregions__climateregion'])\n",
    "X_test_df = pd.concat([X_test_df, climate_regions], axis=1)\n",
    "X_test_df.drop('climateregions__climateregion', axis=1, inplace=True)"
   ]
  },
  {
   "cell_type": "code",
   "execution_count": 45,
   "metadata": {},
   "outputs": [],
   "source": [
    "nmme_tm2m_34w_features = X_test_df.columns[X_test_df.columns.str.startswith('nmme0-tmp2m-34w')].tolist()\n",
    "nmme_tm2m_56w_features = X_test_df.columns[X_test_df.columns.str.startswith('nmme-tmp2m-56w')].tolist()\n",
    "\n",
    "# 4 * 7 = 28 so shifting by -14 brings us to 14 days\n",
    "X_test_df[nmme_tm2m_34w_features] = X_test_df[nmme_tm2m_34w_features].shift(-14).ffill()\n",
    "\n",
    "# 6 * 7 = 42 so shifting by -28 brings us to 14 days\n",
    "X_test_df[nmme_tm2m_56w_features] = X_test_df[nmme_tm2m_34w_features].shift(-28).ffill()"
   ]
  },
  {
   "cell_type": "code",
   "execution_count": 46,
   "metadata": {},
   "outputs": [
    {
     "data": {
      "text/html": [
       "<div>\n",
       "<style scoped>\n",
       "    .dataframe tbody tr th:only-of-type {\n",
       "        vertical-align: middle;\n",
       "    }\n",
       "\n",
       "    .dataframe tbody tr th {\n",
       "        vertical-align: top;\n",
       "    }\n",
       "\n",
       "    .dataframe thead th {\n",
       "        text-align: right;\n",
       "    }\n",
       "</style>\n",
       "<table border=\"1\" class=\"dataframe\">\n",
       "  <thead>\n",
       "    <tr style=\"text-align: right;\">\n",
       "      <th></th>\n",
       "      <th>contest-pevpr-sfc-gauss-14d__pevpr</th>\n",
       "      <th>nmme0-tmp2m-34w__cancm30</th>\n",
       "      <th>nmme0-tmp2m-34w__cancm40</th>\n",
       "      <th>nmme0-tmp2m-34w__ccsm30</th>\n",
       "      <th>nmme0-tmp2m-34w__ccsm40</th>\n",
       "      <th>nmme0-tmp2m-34w__cfsv20</th>\n",
       "      <th>nmme0-tmp2m-34w__gfdlflora0</th>\n",
       "      <th>nmme0-tmp2m-34w__gfdlflorb0</th>\n",
       "      <th>nmme0-tmp2m-34w__gfdl0</th>\n",
       "      <th>nmme0-tmp2m-34w__nasa0</th>\n",
       "      <th>...</th>\n",
       "      <th>Cfb</th>\n",
       "      <th>Csa</th>\n",
       "      <th>Csb</th>\n",
       "      <th>Dfa</th>\n",
       "      <th>Dfb</th>\n",
       "      <th>Dfc</th>\n",
       "      <th>Dsb</th>\n",
       "      <th>Dsc</th>\n",
       "      <th>Dwa</th>\n",
       "      <th>Dwb</th>\n",
       "    </tr>\n",
       "  </thead>\n",
       "  <tbody>\n",
       "    <tr>\n",
       "      <th>0</th>\n",
       "      <td>339.88</td>\n",
       "      <td>30.88</td>\n",
       "      <td>30.92</td>\n",
       "      <td>29.17</td>\n",
       "      <td>31.02</td>\n",
       "      <td>29.47</td>\n",
       "      <td>30.93</td>\n",
       "      <td>30.54</td>\n",
       "      <td>31.01</td>\n",
       "      <td>29.39</td>\n",
       "      <td>...</td>\n",
       "      <td>0</td>\n",
       "      <td>0</td>\n",
       "      <td>0</td>\n",
       "      <td>0</td>\n",
       "      <td>0</td>\n",
       "      <td>0</td>\n",
       "      <td>0</td>\n",
       "      <td>0</td>\n",
       "      <td>0</td>\n",
       "      <td>0</td>\n",
       "    </tr>\n",
       "    <tr>\n",
       "      <th>1</th>\n",
       "      <td>334.63</td>\n",
       "      <td>30.88</td>\n",
       "      <td>30.92</td>\n",
       "      <td>29.17</td>\n",
       "      <td>31.02</td>\n",
       "      <td>29.47</td>\n",
       "      <td>30.93</td>\n",
       "      <td>30.54</td>\n",
       "      <td>31.01</td>\n",
       "      <td>29.39</td>\n",
       "      <td>...</td>\n",
       "      <td>0</td>\n",
       "      <td>0</td>\n",
       "      <td>0</td>\n",
       "      <td>0</td>\n",
       "      <td>0</td>\n",
       "      <td>0</td>\n",
       "      <td>0</td>\n",
       "      <td>0</td>\n",
       "      <td>0</td>\n",
       "      <td>0</td>\n",
       "    </tr>\n",
       "    <tr>\n",
       "      <th>2</th>\n",
       "      <td>337.83</td>\n",
       "      <td>30.88</td>\n",
       "      <td>30.92</td>\n",
       "      <td>29.17</td>\n",
       "      <td>31.02</td>\n",
       "      <td>29.47</td>\n",
       "      <td>30.93</td>\n",
       "      <td>30.54</td>\n",
       "      <td>31.01</td>\n",
       "      <td>29.39</td>\n",
       "      <td>...</td>\n",
       "      <td>0</td>\n",
       "      <td>0</td>\n",
       "      <td>0</td>\n",
       "      <td>0</td>\n",
       "      <td>0</td>\n",
       "      <td>0</td>\n",
       "      <td>0</td>\n",
       "      <td>0</td>\n",
       "      <td>0</td>\n",
       "      <td>0</td>\n",
       "    </tr>\n",
       "    <tr>\n",
       "      <th>3</th>\n",
       "      <td>345.81</td>\n",
       "      <td>30.88</td>\n",
       "      <td>30.92</td>\n",
       "      <td>29.17</td>\n",
       "      <td>31.02</td>\n",
       "      <td>29.47</td>\n",
       "      <td>30.93</td>\n",
       "      <td>30.54</td>\n",
       "      <td>31.01</td>\n",
       "      <td>29.39</td>\n",
       "      <td>...</td>\n",
       "      <td>0</td>\n",
       "      <td>0</td>\n",
       "      <td>0</td>\n",
       "      <td>0</td>\n",
       "      <td>0</td>\n",
       "      <td>0</td>\n",
       "      <td>0</td>\n",
       "      <td>0</td>\n",
       "      <td>0</td>\n",
       "      <td>0</td>\n",
       "    </tr>\n",
       "    <tr>\n",
       "      <th>4</th>\n",
       "      <td>357.39</td>\n",
       "      <td>30.88</td>\n",
       "      <td>30.92</td>\n",
       "      <td>29.17</td>\n",
       "      <td>31.02</td>\n",
       "      <td>29.47</td>\n",
       "      <td>30.93</td>\n",
       "      <td>30.54</td>\n",
       "      <td>31.01</td>\n",
       "      <td>29.39</td>\n",
       "      <td>...</td>\n",
       "      <td>0</td>\n",
       "      <td>0</td>\n",
       "      <td>0</td>\n",
       "      <td>0</td>\n",
       "      <td>0</td>\n",
       "      <td>0</td>\n",
       "      <td>0</td>\n",
       "      <td>0</td>\n",
       "      <td>0</td>\n",
       "      <td>0</td>\n",
       "    </tr>\n",
       "  </tbody>\n",
       "</table>\n",
       "<p>5 rows × 768 columns</p>\n",
       "</div>"
      ],
      "text/plain": [
       "   contest-pevpr-sfc-gauss-14d__pevpr  nmme0-tmp2m-34w__cancm30  \\\n",
       "0                              339.88                     30.88   \n",
       "1                              334.63                     30.88   \n",
       "2                              337.83                     30.88   \n",
       "3                              345.81                     30.88   \n",
       "4                              357.39                     30.88   \n",
       "\n",
       "   nmme0-tmp2m-34w__cancm40  nmme0-tmp2m-34w__ccsm30  nmme0-tmp2m-34w__ccsm40  \\\n",
       "0                     30.92                    29.17                    31.02   \n",
       "1                     30.92                    29.17                    31.02   \n",
       "2                     30.92                    29.17                    31.02   \n",
       "3                     30.92                    29.17                    31.02   \n",
       "4                     30.92                    29.17                    31.02   \n",
       "\n",
       "   nmme0-tmp2m-34w__cfsv20  nmme0-tmp2m-34w__gfdlflora0  \\\n",
       "0                    29.47                        30.93   \n",
       "1                    29.47                        30.93   \n",
       "2                    29.47                        30.93   \n",
       "3                    29.47                        30.93   \n",
       "4                    29.47                        30.93   \n",
       "\n",
       "   nmme0-tmp2m-34w__gfdlflorb0  nmme0-tmp2m-34w__gfdl0  \\\n",
       "0                        30.54                   31.01   \n",
       "1                        30.54                   31.01   \n",
       "2                        30.54                   31.01   \n",
       "3                        30.54                   31.01   \n",
       "4                        30.54                   31.01   \n",
       "\n",
       "   nmme0-tmp2m-34w__nasa0  ...  Cfb  Csa  Csb  Dfa  Dfb  Dfc  Dsb  Dsc  Dwa  \\\n",
       "0                   29.39  ...    0    0    0    0    0    0    0    0    0   \n",
       "1                   29.39  ...    0    0    0    0    0    0    0    0    0   \n",
       "2                   29.39  ...    0    0    0    0    0    0    0    0    0   \n",
       "3                   29.39  ...    0    0    0    0    0    0    0    0    0   \n",
       "4                   29.39  ...    0    0    0    0    0    0    0    0    0   \n",
       "\n",
       "   Dwb  \n",
       "0    0  \n",
       "1    0  \n",
       "2    0  \n",
       "3    0  \n",
       "4    0  \n",
       "\n",
       "[5 rows x 768 columns]"
      ]
     },
     "execution_count": 46,
     "metadata": {},
     "output_type": "execute_result"
    }
   ],
   "source": [
    "X_test_df.head()"
   ]
  },
  {
   "cell_type": "code",
   "execution_count": 47,
   "metadata": {},
   "outputs": [],
   "source": [
    "X_sub = X_scaler.transform(X_test_df)"
   ]
  },
  {
   "cell_type": "code",
   "execution_count": 48,
   "metadata": {},
   "outputs": [
    {
     "name": "stdout",
     "output_type": "stream",
     "text": [
      "122/980 [==>...........................] - ETA: 1s"
     ]
    },
    {
     "name": "stderr",
     "output_type": "stream",
     "text": [
      "2023-03-18 17:46:48.684783: I tensorflow/core/grappler/optimizers/custom_graph_optimizer_registry.cc:113] Plugin optimizer for device_type GPU is enabled.\n"
     ]
    },
    {
     "name": "stdout",
     "output_type": "stream",
     "text": [
      "980/980 [==============================] - 1s 1ms/step\n"
     ]
    }
   ],
   "source": [
    "y_pred_sub = final_model.predict(X_sub)"
   ]
  },
  {
   "cell_type": "code",
   "execution_count": 49,
   "metadata": {},
   "outputs": [],
   "source": [
    "test_df[target] = y_pred_sub"
   ]
  },
  {
   "cell_type": "code",
   "execution_count": 50,
   "metadata": {},
   "outputs": [],
   "source": [
    "test_df[[target, 'index']].to_csv('submission.csv', index=False)"
   ]
  },
  {
   "cell_type": "code",
   "execution_count": 51,
   "metadata": {},
   "outputs": [
    {
     "data": {
      "text/plain": [
       "(31354, 2)"
      ]
     },
     "execution_count": 51,
     "metadata": {},
     "output_type": "execute_result"
    }
   ],
   "source": [
    "test_df[[target, 'index']].shape"
   ]
  }
 ],
 "metadata": {
  "colab": {
   "provenance": []
  },
  "kernelspec": {
   "display_name": "Python 3 (ipykernel)",
   "language": "python",
   "name": "python3"
  },
  "language_info": {
   "codemirror_mode": {
    "name": "ipython",
    "version": 3
   },
   "file_extension": ".py",
   "mimetype": "text/x-python",
   "name": "python",
   "nbconvert_exporter": "python",
   "pygments_lexer": "ipython3",
   "version": "3.9.13"
  }
 },
 "nbformat": 4,
 "nbformat_minor": 4
}
